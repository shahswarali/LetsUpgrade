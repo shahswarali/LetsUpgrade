{
 "cells": [
  {
   "cell_type": "code",
   "execution_count": 11,
   "metadata": {},
   "outputs": [
    {
     "name": "stdout",
     "output_type": "stream",
     "text": [
      "First Armstrong number is  1741725\n"
     ]
    }
   ],
   "source": [
    "for i in range(1042000,702648266):\n",
    "    order=len(str(i))\n",
    "    s=0\n",
    "    temp=i\n",
    "    while temp>0:\n",
    "        rem=temp%10\n",
    "        s=s+rem**order\n",
    "        temp=temp//10\n",
    "    if(s==i):\n",
    "        print(\"First Armstrong number is \",i)\n",
    "        break"
   ]
  },
  {
   "cell_type": "code",
   "execution_count": null,
   "metadata": {},
   "outputs": [],
   "source": []
  }
 ],
 "metadata": {
  "kernelspec": {
   "display_name": "Python 3",
   "language": "python",
   "name": "python3"
  },
  "language_info": {
   "codemirror_mode": {
    "name": "ipython",
    "version": 3
   },
   "file_extension": ".py",
   "mimetype": "text/x-python",
   "name": "python",
   "nbconvert_exporter": "python",
   "pygments_lexer": "ipython3",
   "version": "3.8.3"
  }
 },
 "nbformat": 4,
 "nbformat_minor": 4
}
