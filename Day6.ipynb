{
 "cells": [
  {
   "cell_type": "code",
   "execution_count": 17,
   "metadata": {},
   "outputs": [],
   "source": [
    "class bank_account():\n",
    "    def __init__(self,owner_name,balance):\n",
    "        self.owner_name=owner_name\n",
    "        self.balance=balance\n",
    "    def deposit(self,deposit_money):\n",
    "        self.deposit_money=deposit_money\n",
    "        self.balance=self.balance+self.deposit_money\n",
    "        print(\"You have deposited \",self.deposit_money)\n",
    "        print(\"Your current balance is- \",self.balance)\n",
    "    def withdrawl(self,withdrawl_money):\n",
    "        self.withdrawl_money=withdrawl_money\n",
    "        self.balance=self.balance-self.withdrawl_money\n",
    "        if(self.balance>self.withdrawl_money):\n",
    "            print(\"Your transaction is successful\")\n",
    "            print(\"You have withdrawned \",self.withdrawl_money)\n",
    "            print(\"Your current balance is- \",self.balance)\n",
    "        else:\n",
    "            print(\"You have exceeded the amount\")"
   ]
  },
  {
   "cell_type": "code",
   "execution_count": 18,
   "metadata": {},
   "outputs": [],
   "source": [
    "a=bank_account(\"Joey\",15000)"
   ]
  },
  {
   "cell_type": "code",
   "execution_count": 19,
   "metadata": {},
   "outputs": [
    {
     "name": "stdout",
     "output_type": "stream",
     "text": [
      "You have deposited  6000\n",
      "Your current balance is-  21000\n"
     ]
    }
   ],
   "source": [
    "a.deposit(6000)"
   ]
  },
  {
   "cell_type": "code",
   "execution_count": 20,
   "metadata": {},
   "outputs": [
    {
     "name": "stdout",
     "output_type": "stream",
     "text": [
      "Your transaction is successful\n",
      "You have withdrawned  200\n",
      "Your current balance is-  20800\n"
     ]
    }
   ],
   "source": [
    "a.withdrawl(200)"
   ]
  },
  {
   "cell_type": "code",
   "execution_count": 21,
   "metadata": {},
   "outputs": [
    {
     "name": "stdout",
     "output_type": "stream",
     "text": [
      "You have exceeded the amount\n"
     ]
    }
   ],
   "source": [
    "a.withdrawl(21000)"
   ]
  },
  {
   "cell_type": "code",
   "execution_count": null,
   "metadata": {},
   "outputs": [],
   "source": []
  }
 ],
 "metadata": {
  "kernelspec": {
   "display_name": "Python 3",
   "language": "python",
   "name": "python3"
  },
  "language_info": {
   "codemirror_mode": {
    "name": "ipython",
    "version": 3
   },
   "file_extension": ".py",
   "mimetype": "text/x-python",
   "name": "python",
   "nbconvert_exporter": "python",
   "pygments_lexer": "ipython3",
   "version": "3.8.3"
  }
 },
 "nbformat": 4,
 "nbformat_minor": 4
}
